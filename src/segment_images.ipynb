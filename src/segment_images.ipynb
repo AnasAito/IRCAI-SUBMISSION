{
 "cells": [
  {
   "cell_type": "code",
   "execution_count": null,
   "metadata": {},
   "outputs": [],
   "source": [
    "from transformers import CLIPSegProcessor, CLIPSegForImageSegmentation\n",
    "\n",
    "processor = CLIPSegProcessor.from_pretrained(\"CIDAS/clipseg-rd64-refined\")\n",
    "model = CLIPSegForImageSegmentation.from_pretrained(\"CIDAS/clipseg-rd64-refined\")"
   ]
  },
  {
   "cell_type": "code",
   "execution_count": null,
   "metadata": {},
   "outputs": [],
   "source": [
    "def segment_image(img_path):\n",
    "  # load img\n",
    "  image = Image.open(img_path)\n",
    "  image = image.convert('RGB')\n",
    "  # segment img\n",
    "  inputs = processor(text=prompts, images=[image] * len(prompts), padding=\"max_length\", return_tensors=\"pt\")\n",
    "  with torch.no_grad():\n",
    "    outputs = model(**inputs)\n",
    "  preds = outputs.logits.unsqueeze(1)\n",
    "  # print(preds.shape)\n",
    "  return preds"
   ]
  },
  {
   "cell_type": "code",
   "execution_count": null,
   "metadata": {},
   "outputs": [],
   "source": [
    "import os\n",
    "import numpy as np\n",
    "from PIL import Image\n",
    "\n",
    "\n",
    "image_folder_path = '/home/anas.aitaomar/aihack-water/data/images'\n",
    "output_folder_path = '/home/anas.aitaomar/aihack-water/data/segmentations'\n",
    "\n",
    "\n",
    "\n",
    "\n",
    "\n",
    "os.makedirs(output_folder_path, exist_ok=True)\n",
    "\n",
    "for image_file in os.listdir(image_folder_path):\n",
    "    image_path = os.path.join(image_folder_path, image_file)\n",
    "    if os.path.isfile(image_path): \n",
    "        matrix = segment_image(image_path)\n",
    "        npy_filename = os.path.splitext(image_file)[0] + '.npy'\n",
    "        np.save(os.path.join(output_folder_path, npy_filename), matrix)\n",
    "\n",
    "print(\"All sat-images processed and saved as .npy files.\")"
   ]
  }
 ],
 "metadata": {
  "language_info": {
   "name": "python"
  },
  "orig_nbformat": 4
 },
 "nbformat": 4,
 "nbformat_minor": 2
}
